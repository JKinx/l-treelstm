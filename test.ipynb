{
 "cells": [
  {
   "cell_type": "code",
   "execution_count": 5,
   "metadata": {
    "collapsed": true
   },
   "outputs": [],
   "source": [
    "from model import Model\n",
    "import torch"
   ]
  },
  {
   "cell_type": "code",
   "execution_count": 6,
   "metadata": {},
   "outputs": [],
   "source": [
    "batch = 5\n",
    "seqlen = 10\n",
    "vocab_size = 20\n",
    "hdim = 256\n",
    "idim = 100\n",
    "tdim = 300\n",
    "p_tdim = 256\n",
    "c_tdim = 150\n",
    "odim = 10\n",
    "gumbel_temperature = 1\n",
    "model = Model(vocab_size, idim, hdim, p_tdim, c_tdim, odim, gumbel_temperature)"
   ]
  },
  {
   "cell_type": "code",
   "execution_count": 7,
   "metadata": {},
   "outputs": [],
   "source": [
    "x = torch.tensor([[0,1,2,3,4,5,6,7,8,9],\n",
    "                  [12,18,1,0,16,1,1,2,3,3],\n",
    "                  [0,0,0,1,1,1,2,2,3,3],\n",
    "                  [1,1,1,1,1,5,5,5,5,5],\n",
    "                  [2,3,2,6,11,15,16,14,15,12]])\n",
    "mask = torch.tensor([[1., 1., 1., 1., 1., 0., 0., 0., 0., 0.],\n",
    "        [1., 1., 1., 1., 1., 1., 1., 1., 1., 1.],\n",
    "        [1., 1., 1., 1., 1., 1., 0., 0., 0., 0.],\n",
    "        [1., 0., 0., 0., 0., 0., 0., 0., 0., 0.],\n",
    "        [1., 1., 1., 1., 1., 1., 1., 1., 1., 0.]])\n",
    "labels = torch.tensor([1,2,4,2,3])"
   ]
  },
  {
   "cell_type": "code",
   "execution_count": 8,
   "metadata": {
    "collapsed": true
   },
   "outputs": [],
   "source": [
    "model.train()\n",
    "predictions, tree_compositions, loss, rewards, log_probs, entropy, norm_entropy = model(x, mask, labels)"
   ]
  },
  {
   "cell_type": "code",
   "execution_count": 9,
   "metadata": {
    "collapsed": true
   },
   "outputs": [],
   "source": [
    "eval_log_probs, eval_norm_entropy = model.evaluate(x, mask, tree_compositions)"
   ]
  }
 ],
 "metadata": {
  "kernelspec": {
   "display_name": "dev",
   "language": "python",
   "name": "dev"
  },
  "language_info": {
   "codemirror_mode": {
    "name": "ipython",
    "version": 3
   },
   "file_extension": ".py",
   "mimetype": "text/x-python",
   "name": "python",
   "nbconvert_exporter": "python",
   "pygments_lexer": "ipython3",
   "version": "3.6.8"
  }
 },
 "nbformat": 4,
 "nbformat_minor": 2
}
